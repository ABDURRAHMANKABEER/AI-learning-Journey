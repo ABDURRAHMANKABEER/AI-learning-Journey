{
 "cells": [
  {
   "cell_type": "markdown",
   "id": "b27f2691",
   "metadata": {},
   "source": [
    "# Day 2: model training"
   ]
  },
  {
   "cell_type": "code",
   "execution_count": 9,
   "id": "8dec2baf",
   "metadata": {},
   "outputs": [],
   "source": [
    "import numpy as np\n",
    "import pandas as pd\n",
    "import matplotlib.pyplot as plt\n",
    "import seaborn as sns\n",
    "from sklearn.model_selection import cross_val_score\n",
    "from sklearn.preprocessing import StandardScaler\n",
    "from sklearn.metrics import precision_score, recall_score, f1_score, accuracy_score\n",
    "from sklearn.model_selection import train_test_split\n",
    "from imblearn.over_sampling import SMOTE\n",
    "from xgboost import XGBClassifier\n",
    "from sklearn.metrics import confusion_matrix"
   ]
  },
  {
   "cell_type": "code",
   "execution_count": 10,
   "id": "4163d51c",
   "metadata": {},
   "outputs": [
    {
     "data": {
      "text/plain": [
       "fail\n",
       "0    551\n",
       "1    393\n",
       "Name: count, dtype: int64"
      ]
     },
     "execution_count": 10,
     "metadata": {},
     "output_type": "execute_result"
    }
   ],
   "source": [
    "#loading data\n",
    "df = pd.read_csv('./data/data.csv')\n",
    "Y = df['fail']\n",
    "X = df.drop(columns=['fail'])\n",
    "Y.value_counts() #checking for imbalanced data"
   ]
  },
  {
   "cell_type": "code",
   "execution_count": 14,
   "id": "9929b812",
   "metadata": {},
   "outputs": [],
   "source": [
    "#Class for training model\n",
    "class Model():\n",
    "    def __init__(self, X, Y, scale=True):\n",
    "        self.X = X\n",
    "        self.Y = Y\n",
    "        self.scale = scale\n",
    "        self.scaler = StandardScaler()\n",
    "        self.model = None\n",
    "    def split_and_scale(self):\n",
    "        if self.scale:\n",
    "            scaler = self.scaler\n",
    "\n",
    "            # Initial train+temp split\n",
    "            X_train, X_temp, Y_train, y_temp = train_test_split(\n",
    "                self.X, self.Y, test_size=0.3, stratify=self.Y, random_state=42\n",
    "            )\n",
    "\n",
    "            # Now splitting temp into validation and test (15% each)\n",
    "            X_val, X_test, Y_val, Y_test = train_test_split(\n",
    "                X_temp, y_temp, test_size=0.5, stratify=y_temp, random_state=42\n",
    "            )\n",
    "            # Scaling the data\n",
    "            scaler.fit(X_train)\n",
    "            X_train_scaled = scaler.transform(X_train)\n",
    "            X_val_scaled = scaler.transform(X_val)\n",
    "            X_test_scaled = scaler.transform(X_test)\n",
    "\n",
    "            return {\n",
    "                'X_train': X_train_scaled,\n",
    "                'X_val': X_val_scaled,\n",
    "                'X_test': X_test_scaled,\n",
    "                'Y_test': Y_test,\n",
    "                'Y_val': Y_val,\n",
    "                'Y_train': Y_train\n",
    "            }\n",
    "        else:\n",
    "            X_train, X_temp, Y_train, y_temp = train_test_split(\n",
    "                self.X, self.Y, test_size=0.3, stratify=self.Y, random_state=42\n",
    "            )\n",
    "\n",
    "            X_val, X_test, Y_val, Y_test = train_test_split(\n",
    "                X_temp, y_temp, test_size=0.5, stratify=y_temp, random_state=42\n",
    "            )\n",
    "            return {\n",
    "                'X_train': X_train,\n",
    "                'X_val': X_val,\n",
    "                'X_test': X_test,\n",
    "                'Y_test': Y_test,\n",
    "                'Y_val': Y_val,\n",
    "                'Y_train': Y_train\n",
    "            }\n",
    "    def train_and_evaluate(self, X_train, Y_train, X_val, Y_val, X_test, Y_test, model):\n",
    "        model.fit(X_train, Y_train)\n",
    "        Y_pred_val = model.predict(X_val)\n",
    "\n",
    "        #confusion matrix\n",
    "        cm = confusion_matrix(Y_val, Y_pred_val)\n",
    "\n",
    "        #printing result\n",
    "        print(\"Accuracy:\", accuracy_score(Y_val, Y_pred_val))\n",
    "        print(\"Precision:\", precision_score(Y_val, Y_pred_val))\n",
    "        print(\"Recall:\", recall_score(Y_val, Y_pred_val))\n",
    "        print(\"F1 Score:\", f1_score(Y_val, Y_pred_val))\n",
    "\n",
    "\n",
    "        return {\n",
    "            \"val_Accuracy\": accuracy_score(Y_val, Y_pred_val),\n",
    "            \"val_Precision\": precision_score(Y_val, Y_pred_val, zero_division=0),\n",
    "            \"val_Recall:\": recall_score(Y_val, Y_pred_val),\n",
    "            \"val_F1:\": f1_score(Y_val, Y_pred_val),\n",
    "            'Model': model,\n",
    "            'X_test': X_test,\n",
    "            'Y_test': Y_test,\n",
    "            'Confusion matrix': cm,\n",
    "            'model_name': model.__class__.__name__,  # name as string\n",
    "            'model_obj': model,                      # actual model object\n",
    "            'params': model.get_params(),\n",
    "            'scaler': self.scaler\n",
    "        }\n",
    "    def run(self, model):\n",
    "        data = self.split_and_scale()\n",
    "        return self.train_and_evaluate(\n",
    "            data['X_train'], data['Y_train'],\n",
    "            data['X_val'] , data['Y_val'],\n",
    "            data['X_test'], data['Y_test'], \n",
    "            model\n",
    "        )\n"
   ]
  },
  {
   "cell_type": "code",
   "execution_count": 15,
   "id": "ee29acb1",
   "metadata": {},
   "outputs": [
    {
     "name": "stdout",
     "output_type": "stream",
     "text": [
      "Accuracy: 0.9507042253521126\n",
      "Precision: 0.9482758620689655\n",
      "Recall: 0.9322033898305084\n",
      "F1 Score: 0.9401709401709402\n"
     ]
    }
   ],
   "source": [
    "xgb = XGBClassifier(\n",
    "        n_jobs=-1,\n",
    "        eval_metric='logloss',\n",
    "        random_state=42\n",
    "    )\n",
    "\n",
    "model = Model(X, Y, False)\n",
    "results = model.run(xgb)\n",
    "X_test = results['X_test']\n",
    "Y_test = results['Y_test']\n",
    "model = results['Model']\n",
    "Y_pred_test = model.predict(X_test)\n",
    "test_accuracy = accuracy_score(Y_test, Y_pred_test)\n",
    "test_precision = precision_score(Y_test, Y_pred_test)\n",
    "test_recall = recall_score(Y_test, Y_pred_test)\n",
    "test_f1score = f1_score(Y_test, Y_pred_test)"
   ]
  },
  {
   "cell_type": "code",
   "execution_count": 16,
   "id": "64ef03cc",
   "metadata": {},
   "outputs": [
    {
     "name": "stdout",
     "output_type": "stream",
     "text": [
      "{'Model': 'XGBClassifier', 'Scaler': StandardScaler(), 'Accuracy': 0.8873239436619719, 'Precision': 0.8771929824561403, 'Recall': 0.847457627118644, 'F1_Score': 0.8620689655172413, 'Hyperparameters': None}\n"
     ]
    }
   ],
   "source": [
    "#saving model to a csv file\n",
    "def log_results(results, hyperparameter, filepath=\"model_log.csv\"):\n",
    "    \n",
    "    log = {\n",
    "        \"Model\": results['model_name'],\n",
    "        'Scaler': results['scaler'],\n",
    "        'Accuracy': test_accuracy,\n",
    "        'Precision': test_precision,\n",
    "        'Recall': test_recall,\n",
    "        'F1_Score': test_f1score,\n",
    "        'Hyperparameters': hyperparameter\n",
    "        }\n",
    "\n",
    "    # Convert params dict to string\n",
    "    log_copy = log.copy()\n",
    "    print(log_copy)\n",
    "\n",
    "    df = pd.DataFrame([log_copy])\n",
    "    try:\n",
    "        df.to_csv(filepath, mode='a', index=False, header=not pd.io.common.file_exists(filepath))\n",
    "    except Exception as e:\n",
    "        print(\"Logging failed:\", e)\n",
    "    \n",
    "\n",
    "log_results(results, None)\n"
   ]
  },
  {
   "cell_type": "markdown",
   "id": "d574de8a",
   "metadata": {},
   "source": [
    "# Day 3: Hyperparameter tuning"
   ]
  },
  {
   "cell_type": "code",
   "execution_count": 20,
   "id": "aeb03b82",
   "metadata": {},
   "outputs": [
    {
     "name": "stdout",
     "output_type": "stream",
     "text": [
      "Fitting 5 folds for each of 729 candidates, totalling 3645 fits\n",
      "Best parameters: {'colsample_bytree': 1.0, 'gamma': 0.3, 'learning_rate': 0.2, 'max_depth': 5, 'n_estimators': 100, 'subsample': 1.0}\n",
      "Best F1 score: 0.8896323607068994\n"
     ]
    }
   ],
   "source": [
    "#hyperparameter tuning with GridSearchCV\n",
    "from sklearn.model_selection import GridSearchCV\n",
    "from sklearn.metrics import classification_report\n",
    "\n",
    "#defining parameters\n",
    "param_grid = {\n",
    "    'max_depth': [3, 5, 7],\n",
    "    'learning_rate': [0.01, 0.1, 0.2],\n",
    "    'n_estimators': [100, 200, 300],\n",
    "    'subsample': [0.7, 0.8, 1.0],\n",
    "    'colsample_bytree': [0.7, 0.8, 1.0],\n",
    "    'gamma': [0, 0.1, 0.3]\n",
    "}\n",
    "\n",
    "#GridSearchCV with xgbclassifier\n",
    "grid_search = GridSearchCV(\n",
    "    estimator=xgb,\n",
    "    param_grid=param_grid,\n",
    "    cv=5,\n",
    "    scoring= 'f1',\n",
    "    refit=True,\n",
    "    verbose=2,\n",
    "    n_jobs=-1\n",
    ")\n",
    "\n",
    "# Fitting the grid search\n",
    "model = Model(X, Y, False)\n",
    "splits = model.split_and_scale()\n",
    "grid_search.fit(splits['X_train'], splits['Y_train'])\n",
    "\n",
    "# Printting best parameters and scores for each metric\n",
    "print(\"Best parameters:\", grid_search.best_params_)\n",
    "print(\"Best F1 score:\", grid_search.best_score_)\n",
    "\n",
    "# Getting the best model and evaluation\n",
    "best_model = grid_search.best_estimator_"
   ]
  },
  {
   "cell_type": "code",
   "execution_count": 25,
   "id": "0f0fe832",
   "metadata": {},
   "outputs": [
    {
     "name": "stdout",
     "output_type": "stream",
     "text": [
      "Accuracy: 0.9507042253521126\n",
      "Precision: 0.9482758620689655\n",
      "Recall: 0.9322033898305084\n",
      "F1 Score: 0.9401709401709402\n",
      "{'Model': 'XGBClassifier', 'Scaler': StandardScaler(), 'Accuracy': 0.8873239436619719, 'Precision': 0.864406779661017, 'Recall': 0.864406779661017, 'F1_Score': 0.864406779661017, 'Hyperparameters': 'colsample_bytree=1.0,gamma=0.3,learning_rate=0.2,max_depth=5,n_estimators=100,subsample=1.0,random_state=42'}\n"
     ]
    }
   ],
   "source": [
    "#Using the best parameters\n",
    "final_model = XGBClassifier(\n",
    "        colsample_bytree=1.0,\n",
    "        gamma=0.3,\n",
    "        learning_rate=0.2,\n",
    "        max_depth=5,\n",
    "        n_estimators=100,\n",
    "        subsample=1.0,\n",
    "        random_state=42\n",
    "    )\n",
    "\n",
    "model = Model(X, Y, False)\n",
    "results = model.run(final_model)\n",
    "X_test = results['X_test']\n",
    "Y_test = results['Y_test']\n",
    "model = results['Model']\n",
    "Y_pred_test = model.predict(X_test)\n",
    "test_accuracy = accuracy_score(Y_test, Y_pred_test)\n",
    "test_precision = precision_score(Y_test, Y_pred_test)\n",
    "test_recall = recall_score(Y_test, Y_pred_test)\n",
    "test_f1score = f1_score(Y_test, Y_pred_test)\n",
    "log_results(results, '''colsample_bytree=1.0,gamma=0.3,learning_rate=0.2,max_depth=5,n_estimators=100,subsample=1.0,random_state=42''')"
   ]
  }
 ],
 "metadata": {
  "kernelspec": {
   "display_name": "myenv",
   "language": "python",
   "name": "python3"
  },
  "language_info": {
   "codemirror_mode": {
    "name": "ipython",
    "version": 3
   },
   "file_extension": ".py",
   "mimetype": "text/x-python",
   "name": "python",
   "nbconvert_exporter": "python",
   "pygments_lexer": "ipython3",
   "version": "3.13.1"
  }
 },
 "nbformat": 4,
 "nbformat_minor": 5
}
